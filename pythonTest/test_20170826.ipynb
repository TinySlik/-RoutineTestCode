{
 "cells": [
  {
   "cell_type": "code",
   "execution_count": 26,
   "metadata": {
    "collapsed": false
   },
   "outputs": [
    {
     "name": "stdout",
     "output_type": "stream",
     "text": [
      "[1 2 3 4 5]\n",
      "0\n",
      "OK\n",
      "[[1 2 3 4 5]\n",
      " [1 1 1 1 1]\n",
      " [1 1 1 1 1]\n",
      " [1 1 1 1 1]\n",
      " [1 1 1 1 1]]\n",
      "('fighter1', 'Fedor')\n",
      "('fighter2', 'Randleman')\n",
      "('two', 2)\n",
      "('one', 1)\n",
      "I like Apple, Do not like Saming\n",
      "I like {}, Do not like {}\n"
     ]
    }
   ],
   "source": [
    "import numpy as np\n",
    "\n",
    "c = np.ones((5,5), dtype=np.uint8)\n",
    "b = np.array((1,2,3,4,5))\n",
    "print b\n",
    "print a\n",
    "\n",
    "c[0:1,:]=b\n",
    "i=2\n",
    "if(1 < i < 3):\n",
    "    print \"OK\"\n",
    "print c\n",
    "\n",
    "def traverse_kargs(**kwargs):\n",
    "    for k, v in kwargs.items():\n",
    "        print(k, v)\n",
    "traverse_kargs(fighter1='Fedor', fighter2='Randleman')\n",
    "traverse_kargs(one=1, two=2)\n",
    "\n",
    "str = 'I like {}, Do not like {}'\n",
    "print str.format('Apple', 'Saming')\n"
   ]
  },
  {
   "cell_type": "code",
   "execution_count": 33,
   "metadata": {
    "collapsed": false
   },
   "outputs": [
    {
     "name": "stdout",
     "output_type": "stream",
     "text": [
      "[[[ 0  1  2  3]\n",
      "  [ 4  5  6  7]\n",
      "  [ 8  9 10 11]]\n",
      "\n",
      " [[12 13 14 15]\n",
      "  [16 17 18 19]\n",
      "  [20 21 22 23]]]\n",
      "[[ 1  5  9]\n",
      " [13 17 21]]\n",
      "[0 1 2]\n"
     ]
    }
   ],
   "source": [
    "a = np.arange(24).reshape((2, 3, 4))\n",
    "print a\n",
    "b = a[...,1]\n",
    "print b\n",
    "g = np.split(np.arange(9), 3)\n",
    "print g[0]"
   ]
  },
  {
   "cell_type": "code",
   "execution_count": 52,
   "metadata": {
    "collapsed": false
   },
   "outputs": [
    {
     "name": "stdout",
     "output_type": "stream",
     "text": [
      "[[0 1 2]\n",
      " [3 4 5]]\n",
      "[[ 6  7  8]\n",
      " [ 9 10 11]]\n",
      "[[ 0  1  2]\n",
      " [ 3  4  5]\n",
      " [ 6  7  8]\n",
      " [ 9 10 11]]\n",
      "[[[ 0  1  2]\n",
      "  [ 3  4  5]]\n",
      "\n",
      " [[ 6  7  8]\n",
      "  [ 9 10 11]]]\n",
      "(2, 2, 3)\n",
      "[[[ 0  6]\n",
      "  [ 3  9]]\n",
      "\n",
      " [[ 1  7]\n",
      "  [ 4 10]]\n",
      "\n",
      " [[ 2  8]\n",
      "  [ 5 11]]]\n",
      "(3, 2, 2)\n"
     ]
    }
   ],
   "source": [
    "l0 = np.arange(6).reshape((2, 3))\n",
    "l1 = np.arange(6,12).reshape((2,3))\n",
    "print l0\n",
    "print l1\n",
    "print np.concatenate((l0,l1), 0)\n",
    "s = np.stack((l0, l1))\n",
    "\n",
    "print s\n",
    "print s.shape\n",
    "t = s.transpose(2,1,0)\n",
    "print t\n",
    "print t.shape"
   ]
  }
 ],
 "metadata": {
  "kernelspec": {
   "display_name": "Python 2",
   "language": "python",
   "name": "python2"
  },
  "language_info": {
   "codemirror_mode": {
    "name": "ipython",
    "version": 2
   },
   "file_extension": ".py",
   "mimetype": "text/x-python",
   "name": "python",
   "nbconvert_exporter": "python",
   "pygments_lexer": "ipython2",
   "version": "2.7.12"
  }
 },
 "nbformat": 4,
 "nbformat_minor": 2
}
